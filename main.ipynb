{
 "cells": [
  {
   "cell_type": "markdown",
   "metadata": {},
   "source": [
    "## Imports"
   ]
  },
  {
   "cell_type": "code",
   "execution_count": 1,
   "metadata": {
    "metadata": {}
   },
   "outputs": [
    {
     "name": "stdout",
     "output_type": "stream",
     "text": [
      "2024-05-08 11:26:44,166 (DEBUG): Welcome to IPS - the Interatomic Potential Suite!\n"
     ]
    }
   ],
   "source": [
    "import numpy as np\n",
    "import ipsuite as ips\n",
    "import mace_models\n",
    "\n",
    "import ase\n",
    "import ase.constraints\n",
    "import ase.calculators"
   ]
  },
  {
   "cell_type": "code",
   "execution_count": 2,
   "metadata": {
    "metadata": {}
   },
   "outputs": [
    {
     "name": "stdout",
     "output_type": "stream",
     "text": [
      "\n",
      "        You're using the MACE-MP-0 model. The model is released under the MIT license.\n",
      "        Note:\n",
      "        If you are using this model, please cite the relevant paper for the Materials Project,\n",
      "        any paper associated with the MACE model, and also the following:\n",
      "        - MACE-Universal by Yuan Chiang, 2023, Hugging Face, Revision e5ebd9b,\n",
      "            DOI: 10.57967/hf/1202, URL: https://huggingface.co/cyrusyc/mace-universal\n",
      "        - Matbench Discovery by Janosh Riebesell, Rhys EA Goodall, Philipp Benner, Yuan Chiang,\n",
      "            Alpha A Lee, Anubhav Jain, Kristin A Persson, 2023, arXiv:2308.14920\n",
      "        - https://arxiv.org/abs/2401.00096\n",
      "           \n"
     ]
    }
   ],
   "source": [
    "model = mace_models.load()"
   ]
  },
  {
   "cell_type": "markdown",
   "metadata": {},
   "source": [
    "## Inital Data Generation"
   ]
  },
  {
   "cell_type": "code",
   "execution_count": 3,
   "metadata": {
    "metadata": {}
   },
   "outputs": [],
   "source": [
    "with ips.Project(remove_existing_graph=True, automatic_node_names=True) as project:\n",
    "    with project.group(\"IDG\") as group:  # Initial Data Generation\n",
    "\n",
    "        # Generate a single water\n",
    "        water = ips.configuration_generation.SmilesToAtoms(\n",
    "            smiles=\"O\", name=\"SMILES-Water\"\n",
    "        )  # H20\n",
    "\n",
    "        # Place molecules in box\n",
    "        packmol = ips.configuration_generation.Packmol(\n",
    "            data=[water.atoms],\n",
    "            count=[100],\n",
    "            density=997,\n",
    "        )\n",
    "\n",
    "        # Perform geometry optimization on the newly generated molecules\n",
    "        geoopt = ips.calculators.ASEGeoOpt(\n",
    "            data=packmol.atoms,\n",
    "            model=model,\n",
    "            optimizer=\"FIRE\",\n",
    "            run_kwargs={\"fmax\": 0.5},\n",
    "        )"
   ]
  },
  {
   "cell_type": "markdown",
   "metadata": {},
   "source": [
    "# MLP MD"
   ]
  },
  {
   "cell_type": "code",
   "execution_count": 4,
   "metadata": {},
   "outputs": [],
   "source": [
    "thermostat = ips.calculators.LangevinThermostat(\n",
    "            temperature=300, friction=0.01, time_step=0.5\n",
    "        )\n",
    "model2 = ips.calculators.TorchD3(xc=\"pbe\", data=None, device=\"cpu\", damping=\"bj\", cutoff=8, abc=False, cnthr=8, dtype=\"float32\")\n",
    "\n",
    "with project:\n",
    "    with project.group(\"MLP_MD\") as group:  # MLP Warer Molecular Dynamics\n",
    "        \n",
    "        mix = ips.calculators.MixCalculator(data=geoopt.atoms, calculators=[model, model2], methods=\"sum\")\n",
    "\n",
    "        md = ips.calculators.ASEMD(\n",
    "            data=geoopt.atoms,\n",
    "            data_id=-1,\n",
    "            model=mix,\n",
    "            thermostat=thermostat,\n",
    "            steps=200_000,  # vorher: 500_000\n",
    "            sampling_rate=1,\n",
    "        )"
   ]
  },
  {
   "cell_type": "code",
   "execution_count": 5,
   "metadata": {
    "metadata": {}
   },
   "outputs": [
    {
     "name": "stderr",
     "output_type": "stream",
     "text": [
      "Running DVC command: 'stage add --name MLP_MD_ASEMD --force ...': 100%|███████████████████████████████████████| 6/6 [00:00<00:00,  8.72it/s]\n"
     ]
    }
   ],
   "source": [
    "project.build()"
   ]
  }
 ],
 "metadata": {
  "kernelspec": {
   "display_name": "Python 3 (ipykernel)",
   "language": "python",
   "name": "python3"
  },
  "language_info": {
   "codemirror_mode": {
    "name": "ipython",
    "version": 3
   },
   "file_extension": ".py",
   "mimetype": "text/x-python",
   "name": "python",
   "nbconvert_exporter": "python",
   "pygments_lexer": "ipython3",
   "version": "3.10.14"
  }
 },
 "nbformat": 4,
 "nbformat_minor": 4
}
